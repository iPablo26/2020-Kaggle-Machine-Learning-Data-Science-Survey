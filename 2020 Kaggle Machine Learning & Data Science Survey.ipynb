{
 "cells": [
  {
   "cell_type": "markdown",
   "metadata": {},
   "source": [
    "My intentions aren't clear as I start this notebook.\n",
    "\n",
    "However, I'll start with the basics. "
   ]
  },
  {
   "cell_type": "code",
   "execution_count": 1,
   "metadata": {
    "ExecuteTime": {
     "end_time": "2021-01-10T09:51:21.164638Z",
     "start_time": "2021-01-10T09:51:20.220058Z"
    }
   },
   "outputs": [],
   "source": [
    "# import the pandas data analysis library\n",
    "import pandas as pd"
   ]
  },
  {
   "cell_type": "code",
   "execution_count": 2,
   "metadata": {
    "ExecuteTime": {
     "end_time": "2021-01-10T09:53:02.663716Z",
     "start_time": "2021-01-10T09:53:02.388098Z"
    }
   },
   "outputs": [
    {
     "name": "stdout",
     "output_type": "stream",
     "text": [
      "\u001b[31m2017RespondentTypeREADME.txt\u001b[m\u001b[m\r\n",
      "\u001b[31m2017conversionRates.csv\u001b[m\u001b[m\r\n",
      "\u001b[31m2017freeformResponses.csv\u001b[m\u001b[m\r\n",
      "\u001b[31m2017multipleChoiceResponses.csv\u001b[m\u001b[m\r\n",
      "\u001b[31m2017schema.csv\u001b[m\u001b[m\r\n",
      "\u001b[31m2018SurveySchema.csv\u001b[m\u001b[m\r\n",
      "\u001b[31m2018freeFormResponses.csv\u001b[m\u001b[m\r\n",
      "\u001b[31m2018multipleChoiceResponses.csv\u001b[m\u001b[m\r\n",
      "\u001b[31m2019multiple_choice_responses.csv\u001b[m\u001b[m\r\n",
      "\u001b[31m2019other_text_responses.csv\u001b[m\u001b[m\r\n",
      "\u001b[31m2019questions_only.csv\u001b[m\u001b[m\r\n",
      "\u001b[31m2019survey_schema.csv\u001b[m\u001b[m\r\n",
      "2020 Kaggle Machine Learning & Data Science Survey.ipynb\r\n",
      "README.md\r\n",
      "\u001b[31mkaggle_survey_2020_answer_choices.pdf\u001b[m\u001b[m\r\n",
      "\u001b[31mkaggle_survey_2020_methodology.pdf\u001b[m\u001b[m\r\n",
      "kaggle_survey_2020_responses-revised.csv\r\n",
      "\u001b[31mkaggle_survey_2020_responses.csv\u001b[m\u001b[m\r\n"
     ]
    }
   ],
   "source": [
    "# List the files this directory\n",
    "!ls"
   ]
  },
  {
   "cell_type": "code",
   "execution_count": 67,
   "metadata": {
    "ExecuteTime": {
     "end_time": "2021-01-10T10:42:47.033541Z",
     "start_time": "2021-01-10T10:42:45.215390Z"
    }
   },
   "outputs": [
    {
     "data": {
      "text/html": [
       "<div>\n",
       "<style scoped>\n",
       "    .dataframe tbody tr th:only-of-type {\n",
       "        vertical-align: middle;\n",
       "    }\n",
       "\n",
       "    .dataframe tbody tr th {\n",
       "        vertical-align: top;\n",
       "    }\n",
       "\n",
       "    .dataframe thead th {\n",
       "        text-align: right;\n",
       "    }\n",
       "</style>\n",
       "<table border=\"1\" class=\"dataframe\">\n",
       "  <thead>\n",
       "    <tr style=\"text-align: right;\">\n",
       "      <th></th>\n",
       "      <th>Duration (in seconds)</th>\n",
       "      <th>age</th>\n",
       "      <th>gender</th>\n",
       "      <th>location</th>\n",
       "      <th>highest level of formal education</th>\n",
       "      <th>title to your current role</th>\n",
       "      <th>years of writing code</th>\n",
       "      <th>preferred language - Python</th>\n",
       "      <th>preferred language - R</th>\n",
       "      <th>preferred language - SQL</th>\n",
       "      <th>...</th>\n",
       "      <th>In 2 years, which tool for managing ML experiments -  Weights &amp; Biases</th>\n",
       "      <th>In 2 years, which tool for managing ML experiments - Comet.ml</th>\n",
       "      <th>In 2 years, which tool for managing ML experiments - Sacred + Omniboard</th>\n",
       "      <th>In 2 years, which tool for managing ML experiments - TensorBoard</th>\n",
       "      <th>In 2 years, which tool for managing ML experiments - Guild.ai</th>\n",
       "      <th>In 2 years, which tool for managing ML experiments - Polyaxon</th>\n",
       "      <th>In 2 years, which tool for managing ML experiments - Trains</th>\n",
       "      <th>In 2 years, which tool for managing ML experiments - Domino Model Monitor</th>\n",
       "      <th>In 2 years, which tool for managing ML experiments - None</th>\n",
       "      <th>In 2 years, which tool for managing ML experiments - Other</th>\n",
       "    </tr>\n",
       "  </thead>\n",
       "  <tbody>\n",
       "    <tr>\n",
       "      <th>0</th>\n",
       "      <td>1838</td>\n",
       "      <td>35-39</td>\n",
       "      <td>Man</td>\n",
       "      <td>Colombia</td>\n",
       "      <td>Doctoral degree</td>\n",
       "      <td>Student</td>\n",
       "      <td>5-10 years</td>\n",
       "      <td>Python</td>\n",
       "      <td>R</td>\n",
       "      <td>SQL</td>\n",
       "      <td>...</td>\n",
       "      <td>NaN</td>\n",
       "      <td>NaN</td>\n",
       "      <td>NaN</td>\n",
       "      <td>TensorBoard</td>\n",
       "      <td>NaN</td>\n",
       "      <td>NaN</td>\n",
       "      <td>NaN</td>\n",
       "      <td>NaN</td>\n",
       "      <td>NaN</td>\n",
       "      <td>NaN</td>\n",
       "    </tr>\n",
       "    <tr>\n",
       "      <th>1</th>\n",
       "      <td>289287</td>\n",
       "      <td>30-34</td>\n",
       "      <td>Man</td>\n",
       "      <td>United States of America</td>\n",
       "      <td>Master’s degree</td>\n",
       "      <td>Data Engineer</td>\n",
       "      <td>5-10 years</td>\n",
       "      <td>Python</td>\n",
       "      <td>R</td>\n",
       "      <td>SQL</td>\n",
       "      <td>...</td>\n",
       "      <td>NaN</td>\n",
       "      <td>NaN</td>\n",
       "      <td>NaN</td>\n",
       "      <td>NaN</td>\n",
       "      <td>NaN</td>\n",
       "      <td>NaN</td>\n",
       "      <td>NaN</td>\n",
       "      <td>NaN</td>\n",
       "      <td>NaN</td>\n",
       "      <td>NaN</td>\n",
       "    </tr>\n",
       "    <tr>\n",
       "      <th>2</th>\n",
       "      <td>860</td>\n",
       "      <td>35-39</td>\n",
       "      <td>Man</td>\n",
       "      <td>Argentina</td>\n",
       "      <td>Bachelor’s degree</td>\n",
       "      <td>Software Engineer</td>\n",
       "      <td>10-20 years</td>\n",
       "      <td>NaN</td>\n",
       "      <td>NaN</td>\n",
       "      <td>NaN</td>\n",
       "      <td>...</td>\n",
       "      <td>NaN</td>\n",
       "      <td>NaN</td>\n",
       "      <td>NaN</td>\n",
       "      <td>NaN</td>\n",
       "      <td>NaN</td>\n",
       "      <td>NaN</td>\n",
       "      <td>NaN</td>\n",
       "      <td>NaN</td>\n",
       "      <td>None</td>\n",
       "      <td>NaN</td>\n",
       "    </tr>\n",
       "    <tr>\n",
       "      <th>3</th>\n",
       "      <td>507</td>\n",
       "      <td>30-34</td>\n",
       "      <td>Man</td>\n",
       "      <td>United States of America</td>\n",
       "      <td>Master’s degree</td>\n",
       "      <td>Data Scientist</td>\n",
       "      <td>5-10 years</td>\n",
       "      <td>Python</td>\n",
       "      <td>NaN</td>\n",
       "      <td>SQL</td>\n",
       "      <td>...</td>\n",
       "      <td>NaN</td>\n",
       "      <td>NaN</td>\n",
       "      <td>NaN</td>\n",
       "      <td>NaN</td>\n",
       "      <td>NaN</td>\n",
       "      <td>NaN</td>\n",
       "      <td>NaN</td>\n",
       "      <td>NaN</td>\n",
       "      <td>NaN</td>\n",
       "      <td>NaN</td>\n",
       "    </tr>\n",
       "    <tr>\n",
       "      <th>4</th>\n",
       "      <td>78</td>\n",
       "      <td>30-34</td>\n",
       "      <td>Man</td>\n",
       "      <td>Japan</td>\n",
       "      <td>Master’s degree</td>\n",
       "      <td>Software Engineer</td>\n",
       "      <td>3-5 years</td>\n",
       "      <td>Python</td>\n",
       "      <td>NaN</td>\n",
       "      <td>NaN</td>\n",
       "      <td>...</td>\n",
       "      <td>NaN</td>\n",
       "      <td>NaN</td>\n",
       "      <td>NaN</td>\n",
       "      <td>NaN</td>\n",
       "      <td>NaN</td>\n",
       "      <td>NaN</td>\n",
       "      <td>NaN</td>\n",
       "      <td>NaN</td>\n",
       "      <td>NaN</td>\n",
       "      <td>NaN</td>\n",
       "    </tr>\n",
       "  </tbody>\n",
       "</table>\n",
       "<p>5 rows × 355 columns</p>\n",
       "</div>"
      ],
      "text/plain": [
       "   Duration (in seconds)    age gender                  location  \\\n",
       "0                   1838  35-39    Man                  Colombia   \n",
       "1                 289287  30-34    Man  United States of America   \n",
       "2                    860  35-39    Man                 Argentina   \n",
       "3                    507  30-34    Man  United States of America   \n",
       "4                     78  30-34    Man                     Japan   \n",
       "\n",
       "  highest level of formal education  title to your current role  \\\n",
       "0                    Doctoral degree                    Student   \n",
       "1                    Master’s degree              Data Engineer   \n",
       "2                  Bachelor’s degree          Software Engineer   \n",
       "3                    Master’s degree             Data Scientist   \n",
       "4                    Master’s degree          Software Engineer   \n",
       "\n",
       "  years of writing code preferred language - Python preferred language - R  \\\n",
       "0            5-10 years                      Python                      R   \n",
       "1            5-10 years                      Python                      R   \n",
       "2           10-20 years                         NaN                    NaN   \n",
       "3            5-10 years                      Python                    NaN   \n",
       "4             3-5 years                      Python                    NaN   \n",
       "\n",
       "  preferred language - SQL  ...  \\\n",
       "0                      SQL  ...   \n",
       "1                      SQL  ...   \n",
       "2                      NaN  ...   \n",
       "3                      SQL  ...   \n",
       "4                      NaN  ...   \n",
       "\n",
       "  In 2 years, which tool for managing ML experiments -  Weights & Biases   \\\n",
       "0                                                NaN                        \n",
       "1                                                NaN                        \n",
       "2                                                NaN                        \n",
       "3                                                NaN                        \n",
       "4                                                NaN                        \n",
       "\n",
       "  In 2 years, which tool for managing ML experiments - Comet.ml   \\\n",
       "0                                                NaN               \n",
       "1                                                NaN               \n",
       "2                                                NaN               \n",
       "3                                                NaN               \n",
       "4                                                NaN               \n",
       "\n",
       "  In 2 years, which tool for managing ML experiments - Sacred + Omniboard   \\\n",
       "0                                                NaN                         \n",
       "1                                                NaN                         \n",
       "2                                                NaN                         \n",
       "3                                                NaN                         \n",
       "4                                                NaN                         \n",
       "\n",
       "  In 2 years, which tool for managing ML experiments - TensorBoard   \\\n",
       "0                                       TensorBoard                   \n",
       "1                                                NaN                  \n",
       "2                                                NaN                  \n",
       "3                                                NaN                  \n",
       "4                                                NaN                  \n",
       "\n",
       "  In 2 years, which tool for managing ML experiments - Guild.ai   \\\n",
       "0                                                NaN               \n",
       "1                                                NaN               \n",
       "2                                                NaN               \n",
       "3                                                NaN               \n",
       "4                                                NaN               \n",
       "\n",
       "  In 2 years, which tool for managing ML experiments - Polyaxon   \\\n",
       "0                                                NaN               \n",
       "1                                                NaN               \n",
       "2                                                NaN               \n",
       "3                                                NaN               \n",
       "4                                                NaN               \n",
       "\n",
       "  In 2 years, which tool for managing ML experiments - Trains   \\\n",
       "0                                                NaN             \n",
       "1                                                NaN             \n",
       "2                                                NaN             \n",
       "3                                                NaN             \n",
       "4                                                NaN             \n",
       "\n",
       "  In 2 years, which tool for managing ML experiments - Domino Model Monitor   \\\n",
       "0                                                NaN                           \n",
       "1                                                NaN                           \n",
       "2                                                NaN                           \n",
       "3                                                NaN                           \n",
       "4                                                NaN                           \n",
       "\n",
       "  In 2 years, which tool for managing ML experiments - None  \\\n",
       "0                                                NaN          \n",
       "1                                                NaN          \n",
       "2                                               None          \n",
       "3                                                NaN          \n",
       "4                                                NaN          \n",
       "\n",
       "  In 2 years, which tool for managing ML experiments - Other  \n",
       "0                                                NaN          \n",
       "1                                                NaN          \n",
       "2                                                NaN          \n",
       "3                                                NaN          \n",
       "4                                                NaN          \n",
       "\n",
       "[5 rows x 355 columns]"
      ]
     },
     "execution_count": 67,
     "metadata": {},
     "output_type": "execute_result"
    }
   ],
   "source": [
    "# Read the csv file into a dataframe using the read_csv function\n",
    "survey_data = pd.read_csv('kaggle_survey_2020_responses-revised.csv', low_memory=False, skiprows=1)\n",
    "survey_data.head()"
   ]
  },
  {
   "cell_type": "markdown",
   "metadata": {},
   "source": [
    "I would like to analyze the responses from Nigeria"
   ]
  },
  {
   "cell_type": "code",
   "execution_count": 70,
   "metadata": {},
   "outputs": [],
   "source": [
    "nigerian_respondents = survey_data[survey_data['location'] =='Nigeria']"
   ]
  },
  {
   "cell_type": "code",
   "execution_count": 73,
   "metadata": {},
   "outputs": [
    {
     "data": {
      "text/plain": [
       "168980"
      ]
     },
     "execution_count": 73,
     "metadata": {},
     "output_type": "execute_result"
    }
   ],
   "source": [
    "nigerian_respondents.size"
   ]
  },
  {
   "cell_type": "code",
   "execution_count": 81,
   "metadata": {},
   "outputs": [
    {
     "data": {
      "text/plain": [
       "array(['Duration (in seconds)', 'age', 'gender', 'location',\n",
       "       'highest level of formal education ', 'title to your current role',\n",
       "       'years of writing code', 'preferred language - Python',\n",
       "       'preferred language - R', 'preferred language - SQL',\n",
       "       'preferred language - C', 'preferred language - C++',\n",
       "       'preferred language - Java', 'preferred language - Javascript',\n",
       "       'preferred language - Julia', 'preferred language - Swift',\n",
       "       'preferred language - Bash', 'preferred language - MATLAB',\n",
       "       'preferred language - None', 'preferred language - Other',\n",
       "       'language to recommend ', 'preferred ide - Jupyter ',\n",
       "       'preferred ide -  RStudio ',\n",
       "       'preferred ide  -  Visual Studio Code ',\n",
       "       'preferred ide - Click to write ', 'preferred ide - PyCharm ',\n",
       "       'preferred ide -   Spyder  ', 'preferred ide - Notepad++  ',\n",
       "       'preferred ide -   Sublime Text  ',\n",
       "       'preferred ide -   Vim / Emacs  ', 'preferred ide - MATLAB ',\n",
       "       'preferred ide - None', 'preferred ide - Other',\n",
       "       'preferred hosted notebook -  Kaggle Notebooks',\n",
       "       'preferred hosted notebook - Colab Notebooks',\n",
       "       'preferred hosted notebook - Azure Notebooks',\n",
       "       'preferred hosted notebook - Paperspace / Gradient ',\n",
       "       'preferred hosted notebook - Binder / JupyterHub ',\n",
       "       'preferred hosted notebook - Code Ocean ',\n",
       "       'preferred hosted notebook - IBM Watson Studio ',\n",
       "       'preferred hosted notebook - Amazon Sagemaker Studio ',\n",
       "       'preferred hosted notebook - Amazon EMR Notebooks ',\n",
       "       'preferred hosted notebook - Google Cloud AI Platform Notebooks ',\n",
       "       'preferred hosted notebook - Google Cloud Datalab Notebooks',\n",
       "       'preferred hosted notebook - Databricks Collaborative Notebooks ',\n",
       "       'preferred hosted notebook - None',\n",
       "       'preferred hosted notebook - Other',\n",
       "       'preferred computing platform',\n",
       "       'preferred specialized hardware - GPUs',\n",
       "       'preferred specialized hardware - TPUs',\n",
       "       'preferred specialized hardware - None',\n",
       "       'preferred specialized hardware - Other',\n",
       "       'how many times have you used a TPU',\n",
       "       'preferred data visualization library - Matplotlib ',\n",
       "       'preferred data visualization library - Seaborn ',\n",
       "       'preferred data visualization library - Plotly / Plotly Express ',\n",
       "       'preferred data visualization library - Ggplot / ggplot2 ',\n",
       "       'preferred data visualization library -  Shiny ',\n",
       "       'preferred data visualization library - D3 js ',\n",
       "       'preferred data visualization library -  Altair ',\n",
       "       'preferred data visualization library - Bokeh ',\n",
       "       'preferred data visualization library - Geoplotlib ',\n",
       "       'preferred data visualization library - Leaflet / Folium ',\n",
       "       'preferred data visualization library - None',\n",
       "       'preferred data visualization library - Other',\n",
       "       '# of years of using ml methods',\n",
       "       'preferred ml framework - Scikit-learn ',\n",
       "       'preferred ml framework - TensorFlow ',\n",
       "       'preferred ml framework - Keras ',\n",
       "       'preferred ml framework - PyTorch ',\n",
       "       'preferred ml framework -  Fast.ai ',\n",
       "       'preferred ml framework - MXNet ',\n",
       "       'preferred ml framework - Xgboost ',\n",
       "       'preferred ml framework - LightGBM ',\n",
       "       'preferred ml framework - CatBoost ',\n",
       "       'preferred ml framework - Prophet ',\n",
       "       'preferred ml framework - H2O 3 ',\n",
       "       'preferred ml framework - Caret ',\n",
       "       'preferred ml framework - Tidymodels ',\n",
       "       'preferred ml framework - JAX ', 'preferred ml framework - None',\n",
       "       'preferred ml framework - Other',\n",
       "       'preferred ML algorithm - Linear or Logistic Regression',\n",
       "       'preferred ML algorithm - Decision Trees or Random Forests',\n",
       "       'preferred ML algorithm - Gradient Boosting Machines',\n",
       "       'preferred ML algorithm - Bayesian Approaches',\n",
       "       'preferred ML algorithm - Evolutionary Approaches',\n",
       "       'preferred ML algorithm - Dense Neural Networks (MLPs, etc)',\n",
       "       'preferred ML algorithm - Convolutional Neural Networks',\n",
       "       'preferred ML algorithm - Generative Adversarial Networks',\n",
       "       'preferred ML algorithm - Recurrent Neural Networks',\n",
       "       'preferred ML algorithm - Transformer Networks (BERT, gpt-3, etc)',\n",
       "       'preferred ML algorithm - None', 'preferred ML algorithm - Other',\n",
       "       'preferred computer vision method - General purpose image/video tools',\n",
       "       'preferred computer vision method - Image segmentation methods (U-Net, Mask R-CNN, etc)',\n",
       "       'preferred computer vision method - Object detection methods (YOLOv3, RetinaNet, etc)',\n",
       "       'preferred computer vision method - Image classification and other general purpose networks (VGG, Inception, ResNet, ResNeXt, NASNet, EfficientNet, etc)',\n",
       "       'preferred computer vision method - Generative Networks (GAN, VAE, etc)',\n",
       "       'preferred computer vision method - None',\n",
       "       'preferred computer vision method - Other',\n",
       "       'preferred NLP method - Word embeddings/vectors (GLoVe, fastText, word2vec)',\n",
       "       'preferred NLP method - Encoder-decorder models (seq2seq, vanilla transformers)',\n",
       "       'preferred NLP method - Contextualized embeddings (ELMo, CoVe)',\n",
       "       'preferred NLP method - Transformer language models (GPT-3, BERT, XLnet, etc)',\n",
       "       'preferred NLP method - None', 'preferred NLP method - Other',\n",
       "       'size of workplace', 'how many working on data science workloads ',\n",
       "       'Does employer use ml',\n",
       "       'important part of your role at work - Analyze and understand data to influence product or business decisions',\n",
       "       'important part of your role at work - Build and/or run the data infrastructure that my business uses for storing, analyzing, and operationalizing data',\n",
       "       'important part of your role at work - Build prototypes to explore applying machine learning to new areas',\n",
       "       'important part of your role at work - Build and/or run a machine learning service that operationally improves my product or workflows',\n",
       "       'important part of your role at work - Experimentation and iteration to improve existing ML models',\n",
       "       'an important part of your role at work - Do research that advances the state of the art of machine learning',\n",
       "       'an important part of your role at work - None of these activities are an important part of my role at work',\n",
       "       'important part of your role at work - Other',\n",
       "       'yearly compensation ',\n",
       "       'how much spent on machine learning and/or cloud computing services in the past 5 years',\n",
       "       'preferred cloud computing platform -  Amazon Web Services (AWS) ',\n",
       "       'preferred cloud computing platform -  Microsoft Azure ',\n",
       "       'preferred cloud computing platform -  Google Cloud Platform (GCP) ',\n",
       "       'preferred cloud computing platform -  IBM Cloud / Red Hat ',\n",
       "       'preferred cloud computing platform -  Oracle Cloud ',\n",
       "       'preferred cloud computing platform - SAP Cloud ',\n",
       "       'preferred cloud computing platform -  Salesforce Cloud ',\n",
       "       'preferred cloud computing platform -  VMware Cloud ',\n",
       "       'preferred cloud computing platform -  Alibaba Cloud ',\n",
       "       'preferred cloud computing platform - Tencent Cloud ',\n",
       "       'preferred cloud computing platform - None',\n",
       "       'preferred cloud computing platform - Other',\n",
       "       'preferred computing product -  Amazon EC2 ',\n",
       "       'preferred computing product - AWS Lambda ',\n",
       "       'preferred computing product -  Amazon Elastic Container Service ',\n",
       "       'preferred computing product -  Azure Cloud Services ',\n",
       "       'preferred computing product - Microsoft Azure Container Instances ',\n",
       "       'preferred computing product - Azure Functions ',\n",
       "       'preferred computing product - Google Cloud Compute Engine ',\n",
       "       'preferred computing product - Google Cloud Functions ',\n",
       "       'preferred computing product - Google Cloud Run ',\n",
       "       'preferred computing product - Google Cloud App Engine ',\n",
       "       'preferred computing product - No / None',\n",
       "       'preferred computing product - Other',\n",
       "       'preferred ml product - Amazon SageMaker ',\n",
       "       'preferred ml product - Amazon Forecast ',\n",
       "       'preferred ml product - Amazon Rekognition ',\n",
       "       'preferred ml product - Azure Machine Learning Studio ',\n",
       "       'preferred ml product -  Azure Cognitive Services ',\n",
       "       'preferred ml product - Google Cloud AI Platform / Google Cloud ML Engine',\n",
       "       'preferred ml product - Google Cloud Video AI ',\n",
       "       'preferred ml product - Google Cloud Natural Language ',\n",
       "       'preferred ml product - Google Cloud Vision AI ',\n",
       "       'preferred ml product - No / None', 'preferred ml product - Other',\n",
       "       'preferred big data products - MySQL ',\n",
       "       'preferred big data products - PostgresSQL ',\n",
       "       'preferred big data products - SQLite ',\n",
       "       'preferred big data products - Oracle Database ',\n",
       "       'preferred big data products - MongoDB ',\n",
       "       'preferred big data products - Snowflake ',\n",
       "       'preferred big data products - IBM Db2 ',\n",
       "       'preferred big data products - Microsoft SQL Server ',\n",
       "       'preferred big data products - Microsoft Access ',\n",
       "       'preferred big data products - Microsoft Azure Data Lake Storage ',\n",
       "       'preferred big data products - Amazon Redshift ',\n",
       "       'preferred big data products - Amazon Athena ',\n",
       "       'preferred big data products - Amazon DynamoDB ',\n",
       "       'preferred big data products- Google Cloud BigQuery ',\n",
       "       'preferred big data products - Google Cloud SQL ',\n",
       "       'preferred big data products - Google Cloud Firestore ',\n",
       "       'preferred big data products - None',\n",
       "       'preferred big data products - Other',\n",
       "       'preferred big data products - Selected Choice',\n",
       "       'preferred business intelligence tool - Amazon QuickSight',\n",
       "       'preferred business intelligence tool - Microsoft Power BI',\n",
       "       'preferred business intelligence tool - Google Data Studio',\n",
       "       'preferred business intelligence tool - Looker',\n",
       "       'preferred business intelligence tool - Tableau',\n",
       "       'preferred business intelligence tool - Salesforce',\n",
       "       'preferred business intelligence tool - Einstein Analytics',\n",
       "       'preferred business intelligence tool - Qlik',\n",
       "       'preferred business intelligence tool - Domo',\n",
       "       'preferred business intelligence tool - TIBCO Spotfire',\n",
       "       'preferred business intelligence tool - Alteryx ',\n",
       "       'preferred business intelligence tool - Sisense ',\n",
       "       'preferred business intelligence tool - SAP Analytics Cloud ',\n",
       "       'preferred business intelligence tool - None',\n",
       "       'preferred business intelligence tool - Other',\n",
       "       'preferred business intelligence tool - Selected Choice',\n",
       "       'preferred automated ml tool - Automated data augmentation (e.g. imgaug, albumentations)',\n",
       "       'preferred automated ml tool - Automated feature engineering/selection (e.g. tpot, boruta_py)',\n",
       "       'preferred automated ml tool - Automated model selection (e.g. auto-sklearn, xcessiv)',\n",
       "       'preferred automated ml tool - Automated model architecture searches (e.g. darts, enas)',\n",
       "       'preferred automated ml tool - Automated hyperparameter tuning (e.g. hyperopt, ray.tune, Vizier)',\n",
       "       'preferred automated ml tool - Automation of full ML pipelines (e.g. Google AutoML, H20 Driverless AI)',\n",
       "       'preferred automated ml tool - No / None',\n",
       "       'preferred automated ml tool - Other',\n",
       "       'preferred automated ml tool -  Google Cloud AutoML ',\n",
       "       'preferred automated ml tool -  H20 Driverless AI  ',\n",
       "       'preferred automated ml tool -  Databricks AutoML ',\n",
       "       'preferred automated ml tool - DataRobot AutoML ',\n",
       "       'preferred automated ml tool - Tpot ',\n",
       "       'preferred automated ml tool -  Auto-Keras ',\n",
       "       'preferred automated ml tool -  Auto-Sklearn ',\n",
       "       'preferred automated ml tool -   Auto_ml ',\n",
       "       'preferred automated ml tool - Xcessiv ',\n",
       "       'preferred automated ml tool - MLbox ',\n",
       "       'preferred automated ml tool - No / None.1',\n",
       "       'preferred automated ml tool - Other.1',\n",
       "       'tool used to manage ml experiments - Neptune.ai ',\n",
       "       'tool used to manage ml experiments -  Weights & Biases ',\n",
       "       'tool used to manage ml experiments - Comet.ml ',\n",
       "       'tool used to manage ml experiments -  Sacred + Omniboard ',\n",
       "       'tool used to manage ml experiments - TensorBoard ',\n",
       "       'tool used to manage ml experiments - Guild.ai ',\n",
       "       'tool used to manage ml experiments - Polyaxon ',\n",
       "       'tool used to manage ml experiments - Trains ',\n",
       "       'tool used to manage ml experiments - Domino Model Monitor ',\n",
       "       'tool used to manage ml experiments - No / None',\n",
       "       'tool used to manage ml experiments - Other',\n",
       "       'preferred sharing platform for data analysis or ml applications -  Plotly Dash ',\n",
       "       'preferred sharing platform for data analysis or ml applications -  Streamlit ',\n",
       "       'preferred sharing platform for data analysis or ml applications -  NBViewer ',\n",
       "       'preferred sharing platform for data analysis or ml applications -  GitHub ',\n",
       "       'preferred sharing platform for data analysis or ml applications -  Personal blog ',\n",
       "       'preferred sharing platform for data analysis or ml applications -  Kaggle ',\n",
       "       'preferred sharing platform for data analysis or ml applications -  Colab ',\n",
       "       'preferred sharing platform for data analysis or ml applications -  Shiny ',\n",
       "       'preferred sharing platform for data analysis or ml applications - I do not share my work publicly',\n",
       "       'preferred sharing platform for data analysis or ml applications - Other',\n",
       "       'which platforms have you begun or completed data science courses - Coursera',\n",
       "       'which platforms have you begun or completed data science courses - edX',\n",
       "       'which platforms have you begun or completed data science courses - Kaggle Learn Courses',\n",
       "       'which platforms have you begun or completed data science courses - DataCamp',\n",
       "       'which platforms have you begun or completed data science courses - Fast.ai',\n",
       "       'which platforms have you begun or completed data science courses - Udacity',\n",
       "       'which platforms have you begun or completed data science courses - Udemy',\n",
       "       'which platforms have you begun or completed data science courses - LinkedIn Learning',\n",
       "       'which platforms have you begun or completed data science courses - Cloud-certification programs (direct from AWS, Azure, GCP, or similar)',\n",
       "       'which platforms have you begun or completed data science courses - University Courses (resulting in a university degree)',\n",
       "       'which platforms have you begun or completed data science courses - None',\n",
       "       'which platforms have you begun or completed data science courses - Other',\n",
       "       'preferred primary for data analysis',\n",
       "       'preferred media sources on data science topics - Twitter (data science influencers)',\n",
       "       \"preferred media sources on data science topics - Email newsletters (Data Elixir, O'Reilly Data & AI, etc)\",\n",
       "       'preferred media sources on data science topics - Reddit (r/machinelearning, etc)',\n",
       "       'preferred media sources on data science topics - Kaggle (notebooks, forums, etc)',\n",
       "       'preferred media sources on data science topics - Course Forums (forums.fast.ai, Coursera forums, etc)',\n",
       "       'preferred media sources on data science topics - YouTube (Kaggle YouTube, Cloud AI Adventures, etc)',\n",
       "       'preferred media sources on data science topics - Podcasts (Chai Time Data Science, O’Reilly Data Show, etc)',\n",
       "       'preferred media sources on data science topics - Blogs (Towards Data Science, Analytics Vidhya, etc)',\n",
       "       'preferred media sources on data science topics - Journal Publications (peer-reviewed journals, conference proceedings, etc)',\n",
       "       'preferred media sources on data science topics - Slack Communities (ods.ai, kagglenoobs, etc)',\n",
       "       'preferred media sources on data science topics - None',\n",
       "       'preferred media sources on data science topics - Other',\n",
       "       \"cloud computing platform you're intent on learning -  Amazon Web Services (AWS) \",\n",
       "       \"cloud computing platform you're intent on learning -  Microsoft Azure \",\n",
       "       \"cloud computing platform you're intent on learning -  Google Cloud Platform (GCP) \",\n",
       "       \"cloud computing platform you're intent on learning -  IBM Cloud / Red Hat \",\n",
       "       \"cloud computing platform you're intent on learning -  Oracle Cloud \",\n",
       "       \"cloud computing platform you're intent on learning -  SAP Cloud \",\n",
       "       \"cloud computing platform you're intent on learning -  VMware Cloud \",\n",
       "       \"cloud computing platform you're intent on learning -  Salesforce Cloud \",\n",
       "       \"cloud computing platform you're intent on learning -  Alibaba Cloud \",\n",
       "       \"cloud computing platform you're intent on learning -  Tencent Cloud \",\n",
       "       \"cloud computing platform you're intent on learning - None\",\n",
       "       \"cloud computing platform you're intent on learning - Other\",\n",
       "       \"cloud computing products you're intent on learning -  Amazon EC2 \",\n",
       "       \"cloud computing products you're intent on learning -  AWS Lambda \",\n",
       "       \"cloud computing products you're intent on learning -  Amazon Elastic Container Service \",\n",
       "       'In 2 years, which cloud computing product -  Azure Cloud Services ',\n",
       "       'In 2 years, which cloud computing product -  Microsoft Azure Container Instances ',\n",
       "       'In 2 years, which cloud computing product -  Azure Functions ',\n",
       "       'In 2 years, which cloud computing product -  Google Cloud Compute Engine ',\n",
       "       'In 2 years, which cloud computing product - Google Cloud Functions ',\n",
       "       'In 2 years, which cloud computing product - Google Cloud Run ',\n",
       "       'In 2 years, which cloud computing product - Google Cloud App Engine ',\n",
       "       'In 2 years, which cloud computing product - None',\n",
       "       'In 2 years, which cloud computing product - Other',\n",
       "       'In 2 years, which ml product - Amazon SageMaker ',\n",
       "       'In 2 years, which ml product - Amazon Forecast ',\n",
       "       'In 2 years, which ml product - Amazon Rekognition ',\n",
       "       'In 2 years, which ml product - Azure Machine Learning Studio ',\n",
       "       'In 2 years, which ml product - Azure Cognitive Services ',\n",
       "       'In 2 years, which ml product - Google Cloud AI Platform / Google Cloud ML Engine',\n",
       "       'In 2 years, which ml product - Google Cloud Video AI ',\n",
       "       'In 2 years, which ml product - Google Cloud Natural Language ',\n",
       "       'In 2 years, which ml product - Google Cloud Vision AI ',\n",
       "       'In 2 years, which ml product - None',\n",
       "       'In 2 years, which ml product - Other',\n",
       "       'in 2 years, which big data product - MySQL ',\n",
       "       'in 2 years, which big data product - PostgresSQL ',\n",
       "       'in 2 years, which big data product - SQLite ',\n",
       "       'in 2 years, which big data product - Oracle Database ',\n",
       "       'in 2 years, which big data product - MongoDB ',\n",
       "       'in 2 years, which big data product - Snowflake ',\n",
       "       'in 2 years, which big data product - IBM Db2 ',\n",
       "       'in 2 years, which big data product - Microsoft SQL Server ',\n",
       "       'in 2 years, which big data product - Microsoft Access ',\n",
       "       'in 2 years, which big data product - Microsoft Azure Data Lake Storage ',\n",
       "       'in 2 years, which big data product - Amazon Redshift ',\n",
       "       'in 2 years, which big data product - Amazon Athena ',\n",
       "       'in 2 years, which big data product - Amazon DynamoDB ',\n",
       "       'in 2 years, which big data product - Google Cloud BigQuery ',\n",
       "       'in 2 years, which big data product - Google Cloud SQL ',\n",
       "       'in 2 years, which big data product - Google Cloud Firestore ',\n",
       "       'in 2 years, which big data product - None',\n",
       "       'in 2 years, which big data product - Other',\n",
       "       'in 2 years, which business intelligence tool - Microsoft Power BI',\n",
       "       'in 2 years, which business intelligence tool - Amazon QuickSight',\n",
       "       'in 2 years, which business intelligence tool - Google Data Studio',\n",
       "       'in 2 years, which business intelligence tool - Looker',\n",
       "       'in 2 years, which business intelligence tool - Tableau',\n",
       "       'in 2 years, which business intelligence tool - Salesforce',\n",
       "       'in 2 years, which business intelligence tool - Einstein Analytics',\n",
       "       'in 2 years, which business intelligence tool - Qlik',\n",
       "       'in 2 years, which business intelligence tool - Domo',\n",
       "       'in 2 years, which business intelligence tool - TIBCO Spotfire',\n",
       "       'in 2 years, which business intelligence tool - Alteryx ',\n",
       "       'in 2 years, which business intelligence tool - Sisense ',\n",
       "       'in 2 years, which business intelligence tool - SAP Analytics Cloud ',\n",
       "       'in 2 years, which business intelligence tool - None',\n",
       "       'in 2 years, which business intelligence tool - Other',\n",
       "       'in 2 years, which automated ml tool - Automated data augmentation (e.g. imgaug, albumentations)',\n",
       "       'in 2 years, which automated ml tool - Automated feature engineering/selection (e.g. tpot, boruta_py)',\n",
       "       'in 2 years, which automated ml tool - Automated model selection (e.g. auto-sklearn, xcessiv)',\n",
       "       'in 2 years, which automated ml tool - Automated model architecture searches (e.g. darts, enas)',\n",
       "       'in 2 years, which automated ml tool - Automated hyperparameter tuning (e.g. hyperopt, ray.tune, Vizier)',\n",
       "       'in 2 years, which automated ml tool - Automation of full ML pipelines (e.g. Google Cloud AutoML, H20 Driverless AI)',\n",
       "       'in 2 years, which automated ml tool - None',\n",
       "       'in 2 years, which automated ml tool - Other',\n",
       "       'in 2 years, which automated ml tool - Google Cloud AutoML ',\n",
       "       'in 2 years, which automated ml tool - H20 Driverless AI  ',\n",
       "       'in 2 years, which automated ml tool - Databricks AutoML ',\n",
       "       'in 2 years, which automated ml tool - DataRobot AutoML ',\n",
       "       'in 2 years, which automated ml tool - Tpot ',\n",
       "       'in 2 years, which automated ml tool - Auto-Keras ',\n",
       "       'in 2 years, which automated ml tool - Auto-Sklearn ',\n",
       "       'in 2 years, which automated ml tool - Auto_ml ',\n",
       "       'in 2 years, which automated ml tool - Xcessiv ',\n",
       "       'in 2 years, which automated ml tool - MLbox ',\n",
       "       'in 2 years, which automated ml tool - None.1',\n",
       "       'in 2 years, which automated ml tool - Other.1',\n",
       "       'In 2 years, which tool for managing ML experiments -  Neptune.ai ',\n",
       "       'In 2 years, which tool for managing ML experiments -  Weights & Biases ',\n",
       "       'In 2 years, which tool for managing ML experiments - Comet.ml ',\n",
       "       'In 2 years, which tool for managing ML experiments - Sacred + Omniboard ',\n",
       "       'In 2 years, which tool for managing ML experiments - TensorBoard ',\n",
       "       'In 2 years, which tool for managing ML experiments - Guild.ai ',\n",
       "       'In 2 years, which tool for managing ML experiments - Polyaxon ',\n",
       "       'In 2 years, which tool for managing ML experiments - Trains ',\n",
       "       'In 2 years, which tool for managing ML experiments - Domino Model Monitor ',\n",
       "       'In 2 years, which tool for managing ML experiments - None',\n",
       "       'In 2 years, which tool for managing ML experiments - Other'],\n",
       "      dtype=object)"
      ]
     },
     "execution_count": 81,
     "metadata": {},
     "output_type": "execute_result"
    }
   ],
   "source": [
    "nigerian_respondents.columns.values"
   ]
  },
  {
   "cell_type": "code",
   "execution_count": 74,
   "metadata": {},
   "outputs": [
    {
     "data": {
      "text/plain": [
       "(476, 355)"
      ]
     },
     "execution_count": 74,
     "metadata": {},
     "output_type": "execute_result"
    }
   ],
   "source": [
    "nigerian_respondents.shape\n",
    "# Out of 20,036 kaggle members that participated in the survey, 476 are Nigerians"
   ]
  },
  {
   "cell_type": "code",
   "execution_count": 76,
   "metadata": {},
   "outputs": [
    {
     "data": {
      "text/plain": [
       "Man                  392\n",
       "Woman                 81\n",
       "Prefer not to say      2\n",
       "Nonbinary              1\n",
       "Name: gender, dtype: int64"
      ]
     },
     "execution_count": 76,
     "metadata": {},
     "output_type": "execute_result"
    }
   ],
   "source": [
    "nigerian_respondents['gender'].value_counts()\n",
    "# Breakdown of gender"
   ]
  },
  {
   "cell_type": "code",
   "execution_count": 89,
   "metadata": {},
   "outputs": [
    {
     "data": {
      "text/plain": [
       "Man                        15789\n",
       "Woman                       3878\n",
       "Prefer not to say            263\n",
       "Prefer to self-describe       54\n",
       "Nonbinary                     52\n",
       "Name: gender, dtype: int64"
      ]
     },
     "execution_count": 89,
     "metadata": {},
     "output_type": "execute_result"
    }
   ],
   "source": [
    "survey_data['gender'].value_counts()"
   ]
  },
  {
   "cell_type": "code",
   "execution_count": 78,
   "metadata": {},
   "outputs": [
    {
     "data": {
      "text/plain": [
       "Bachelor’s degree                                                    269\n",
       "Master’s degree                                                      143\n",
       "Some college/university study without earning a bachelor’s degree     25\n",
       "Doctoral degree                                                       16\n",
       "Professional degree                                                   15\n",
       "I prefer not to answer                                                 4\n",
       "No formal education past high school                                   4\n",
       "Name: highest level of formal education , dtype: int64"
      ]
     },
     "execution_count": 78,
     "metadata": {},
     "output_type": "execute_result"
    }
   ],
   "source": [
    "nigerian_respondents['highest level of formal education '].value_counts()\n",
    "# Breakdown of the level of Formal Education"
   ]
  },
  {
   "cell_type": "code",
   "execution_count": 90,
   "metadata": {},
   "outputs": [
    {
     "data": {
      "text/plain": [
       "Master’s degree                                                      7859\n",
       "Bachelor’s degree                                                    6978\n",
       "Doctoral degree                                                      2302\n",
       "Some college/university study without earning a bachelor’s degree    1092\n",
       "Professional degree                                                   699\n",
       "I prefer not to answer                                                399\n",
       "No formal education past high school                                  240\n",
       "Name: highest level of formal education , dtype: int64"
      ]
     },
     "execution_count": 90,
     "metadata": {},
     "output_type": "execute_result"
    }
   ],
   "source": [
    "survey_data['highest level of formal education '].value_counts()"
   ]
  },
  {
   "cell_type": "code",
   "execution_count": 84,
   "metadata": {},
   "outputs": [
    {
     "data": {
      "text/plain": [
       "22-24    119\n",
       "25-29    116\n",
       "18-21     88\n",
       "30-34     66\n",
       "35-39     44\n",
       "40-44     19\n",
       "45-49     18\n",
       "50-54      5\n",
       "60-69      1\n",
       "Name: age, dtype: int64"
      ]
     },
     "execution_count": 84,
     "metadata": {},
     "output_type": "execute_result"
    }
   ],
   "source": [
    "nigerian_respondents['age'].value_counts()\n",
    "# Breakdown of Age range "
   ]
  },
  {
   "cell_type": "code",
   "execution_count": 95,
   "metadata": {},
   "outputs": [
    {
     "data": {
      "text/plain": [
       "25-29    4011\n",
       "22-24    3786\n",
       "18-21    3469\n",
       "30-34    2811\n",
       "35-39    1991\n",
       "40-44    1397\n",
       "45-49     988\n",
       "50-54     698\n",
       "55-59     411\n",
       "60-69     398\n",
       "70+        76\n",
       "Name: age, dtype: int64"
      ]
     },
     "execution_count": 95,
     "metadata": {},
     "output_type": "execute_result"
    }
   ],
   "source": [
    "survey_data['age'].value_counts()"
   ]
  },
  {
   "cell_type": "markdown",
   "metadata": {},
   "source": [
    "Preferred language for data science"
   ]
  },
  {
   "cell_type": "code",
   "execution_count": 85,
   "metadata": {},
   "outputs": [
    {
     "data": {
      "text/plain": [
       "Python    379\n",
       "Name: preferred language - Python, dtype: int64"
      ]
     },
     "execution_count": 85,
     "metadata": {},
     "output_type": "execute_result"
    }
   ],
   "source": [
    "nigerian_respondents['preferred language - Python'].value_counts()"
   ]
  },
  {
   "cell_type": "code",
   "execution_count": 86,
   "metadata": {},
   "outputs": [
    {
     "data": {
      "text/plain": [
       "R    60\n",
       "Name: preferred language - R, dtype: int64"
      ]
     },
     "execution_count": 86,
     "metadata": {},
     "output_type": "execute_result"
    }
   ],
   "source": [
    "nigerian_respondents['preferred language - R'].value_counts()"
   ]
  },
  {
   "cell_type": "code",
   "execution_count": 87,
   "metadata": {},
   "outputs": [
    {
     "data": {
      "text/plain": [
       "SQL    130\n",
       "Name: preferred language - SQL, dtype: int64"
      ]
     },
     "execution_count": 87,
     "metadata": {},
     "output_type": "execute_result"
    }
   ],
   "source": [
    "nigerian_respondents['preferred language - SQL'].value_counts()"
   ]
  },
  {
   "cell_type": "code",
   "execution_count": 88,
   "metadata": {},
   "outputs": [
    {
     "data": {
      "text/plain": [
       "C    10\n",
       "Name: preferred language - C, dtype: int64"
      ]
     },
     "execution_count": 88,
     "metadata": {},
     "output_type": "execute_result"
    }
   ],
   "source": [
    "nigerian_respondents['preferred language - C'].value_counts()"
   ]
  },
  {
   "cell_type": "markdown",
   "metadata": {},
   "source": [
    "Preferred Cloud Computing Platform "
   ]
  },
  {
   "cell_type": "code",
   "execution_count": 92,
   "metadata": {},
   "outputs": [
    {
     "data": {
      "text/plain": [
       " Google Cloud Platform (GCP)     56\n",
       "Name: preferred cloud computing platform -  Google Cloud Platform (GCP) , dtype: int64"
      ]
     },
     "execution_count": 92,
     "metadata": {},
     "output_type": "execute_result"
    }
   ],
   "source": [
    "nigerian_respondents['preferred cloud computing platform -  Google Cloud Platform (GCP) '].value_counts()"
   ]
  },
  {
   "cell_type": "code",
   "execution_count": 93,
   "metadata": {},
   "outputs": [
    {
     "data": {
      "text/plain": [
       " Amazon Web Services (AWS)     36\n",
       "Name: preferred cloud computing platform -  Amazon Web Services (AWS) , dtype: int64"
      ]
     },
     "execution_count": 93,
     "metadata": {},
     "output_type": "execute_result"
    }
   ],
   "source": [
    "nigerian_respondents['preferred cloud computing platform -  Amazon Web Services (AWS) '].value_counts()"
   ]
  },
  {
   "cell_type": "code",
   "execution_count": 94,
   "metadata": {},
   "outputs": [
    {
     "data": {
      "text/plain": [
       " Microsoft Azure     43\n",
       "Name: preferred cloud computing platform -  Microsoft Azure , dtype: int64"
      ]
     },
     "execution_count": 94,
     "metadata": {},
     "output_type": "execute_result"
    }
   ],
   "source": [
    "nigerian_respondents['preferred cloud computing platform -  Microsoft Azure '].value_counts()"
   ]
  },
  {
   "cell_type": "code",
   "execution_count": null,
   "metadata": {},
   "outputs": [],
   "source": []
  }
 ],
 "metadata": {
  "kernelspec": {
   "display_name": "Python 3",
   "language": "python",
   "name": "python3"
  },
  "language_info": {
   "codemirror_mode": {
    "name": "ipython",
    "version": 3
   },
   "file_extension": ".py",
   "mimetype": "text/x-python",
   "name": "python",
   "nbconvert_exporter": "python",
   "pygments_lexer": "ipython3",
   "version": "3.8.5"
  }
 },
 "nbformat": 4,
 "nbformat_minor": 4
}
